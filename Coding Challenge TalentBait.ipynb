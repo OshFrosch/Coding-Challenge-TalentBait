{
 "cells": [
  {
   "cell_type": "markdown",
   "metadata": {},
   "source": [
    "# Code Challenge: Text classification"
   ]
  },
  {
   "cell_type": "code",
   "execution_count": 116,
   "metadata": {},
   "outputs": [],
   "source": [
    "import pandas as pd\n",
    "import json as js\n",
    "import numpy as np\n",
    "import seaborn as sns\n",
    "import spacy\n",
    "import pickle\n",
    "import matplotlib.pyplot as plt\n",
    "pd.options.display.max_colwidth = 200\n",
    "plt.rcParams[\"figure.figsize\"]=20,8\n",
    "\n",
    "from sklearn.feature_extraction.text import TfidfVectorizer\n",
    "from sklearn.naive_bayes import MultinomialNB\n",
    "from sklearn.metrics import confusion_matrix"
   ]
  },
  {
   "cell_type": "code",
   "execution_count": 2,
   "metadata": {},
   "outputs": [],
   "source": [
    "Version = !python --version\n",
    "assert(Version == ['Python 3.8.0'])"
   ]
  },
  {
   "cell_type": "code",
   "execution_count": 137,
   "metadata": {},
   "outputs": [
    {
     "name": "stderr",
     "output_type": "stream",
     "text": [
      "[nltk_data] Downloading package stopwords to\n",
      "[nltk_data]     /Users/joshuakraft/nltk_data...\n",
      "[nltk_data]   Package stopwords is already up-to-date!\n"
     ]
    },
    {
     "data": {
      "text/plain": [
       "True"
      ]
     },
     "execution_count": 137,
     "metadata": {},
     "output_type": "execute_result"
    }
   ],
   "source": [
    "import nltk\n",
    "nltk.download('stopwords')"
   ]
  },
  {
   "cell_type": "markdown",
   "metadata": {},
   "source": [
    "## Import Data"
   ]
  },
  {
   "cell_type": "code",
   "execution_count": 3,
   "metadata": {},
   "outputs": [],
   "source": [
    "json_file = 'tech_soft_none.json'\n",
    "Json = js.load(open(json_file,))\n",
    "df = pd.DataFrame(Json['data'])"
   ]
  },
  {
   "cell_type": "code",
   "execution_count": 4,
   "metadata": {},
   "outputs": [],
   "source": [
    "p_id = {k: v for v, k in enumerate(df.label.unique())}\n",
    "df['num_label'] = df['label'].apply(lambda label: p_id[label])"
   ]
  },
  {
   "cell_type": "code",
   "execution_count": 5,
   "metadata": {},
   "outputs": [
    {
     "data": {
      "text/html": [
       "<div>\n",
       "<style scoped>\n",
       "    .dataframe tbody tr th:only-of-type {\n",
       "        vertical-align: middle;\n",
       "    }\n",
       "\n",
       "    .dataframe tbody tr th {\n",
       "        vertical-align: top;\n",
       "    }\n",
       "\n",
       "    .dataframe thead th {\n",
       "        text-align: right;\n",
       "    }\n",
       "</style>\n",
       "<table border=\"1\" class=\"dataframe\">\n",
       "  <thead>\n",
       "    <tr style=\"text-align: right;\">\n",
       "      <th></th>\n",
       "      <th>text</th>\n",
       "      <th>label</th>\n",
       "      <th>num_label</th>\n",
       "    </tr>\n",
       "  </thead>\n",
       "  <tbody>\n",
       "    <tr>\n",
       "      <th>0</th>\n",
       "      <td>Standort Trovarit AG München, Deutschland</td>\n",
       "      <td>none</td>\n",
       "      <td>0</td>\n",
       "    </tr>\n",
       "    <tr>\n",
       "      <th>1</th>\n",
       "      <td>Wir freuen uns auf Ihre Bewerbung unter Angabe Ihrer Gehaltsvorstellung und Ihres möglichen Eintrittstermins. Der ALTE LEIPZIGER – HALLESCHE Konzern begrüßt ausdrücklich die Bewerbung von Menschen...</td>\n",
       "      <td>none</td>\n",
       "      <td>0</td>\n",
       "    </tr>\n",
       "    <tr>\n",
       "      <th>2</th>\n",
       "      <td>Qualifikation zur Heimleitung gemäß Heimpersonalverordnung</td>\n",
       "      <td>tech</td>\n",
       "      <td>1</td>\n",
       "    </tr>\n",
       "    <tr>\n",
       "      <th>3</th>\n",
       "      <td>Gute organisatorische und konzeptionelle Fähigkeiten</td>\n",
       "      <td>soft</td>\n",
       "      <td>2</td>\n",
       "    </tr>\n",
       "    <tr>\n",
       "      <th>4</th>\n",
       "      <td>Teamfähigkeit, hohe Flexibilität und Einsatzbereitschaft.</td>\n",
       "      <td>soft</td>\n",
       "      <td>2</td>\n",
       "    </tr>\n",
       "    <tr>\n",
       "      <th>5</th>\n",
       "      <td>Überdurchschnittliche Einsatzbereitschaft</td>\n",
       "      <td>soft</td>\n",
       "      <td>2</td>\n",
       "    </tr>\n",
       "    <tr>\n",
       "      <th>6</th>\n",
       "      <td>HomeIhre Karriere bei LeasePlanStellenangeboteSachbearbeiter/in Vertriebskoordination Händlerbetreuung LeasePlan SME</td>\n",
       "      <td>none</td>\n",
       "      <td>0</td>\n",
       "    </tr>\n",
       "    <tr>\n",
       "      <th>7</th>\n",
       "      <td>Steuerkenntnisse sind sehr wünschenswert</td>\n",
       "      <td>tech</td>\n",
       "      <td>1</td>\n",
       "    </tr>\n",
       "    <tr>\n",
       "      <th>8</th>\n",
       "      <td>Kreativität und schnelle Auffassungsgabe</td>\n",
       "      <td>soft</td>\n",
       "      <td>2</td>\n",
       "    </tr>\n",
       "    <tr>\n",
       "      <th>9</th>\n",
       "      <td>budget/forecast/prior year/prior month) and provide explanations for the management</td>\n",
       "      <td>none</td>\n",
       "      <td>0</td>\n",
       "    </tr>\n",
       "  </tbody>\n",
       "</table>\n",
       "</div>"
      ],
      "text/plain": [
       "                                                                                                                                                                                                      text  \\\n",
       "0                                                                                                                                                                Standort Trovarit AG München, Deutschland   \n",
       "1  Wir freuen uns auf Ihre Bewerbung unter Angabe Ihrer Gehaltsvorstellung und Ihres möglichen Eintrittstermins. Der ALTE LEIPZIGER – HALLESCHE Konzern begrüßt ausdrücklich die Bewerbung von Menschen...   \n",
       "2                                                                                                                                               Qualifikation zur Heimleitung gemäß Heimpersonalverordnung   \n",
       "3                                                                                                                                                     Gute organisatorische und konzeptionelle Fähigkeiten   \n",
       "4                                                                                                                                                Teamfähigkeit, hohe Flexibilität und Einsatzbereitschaft.   \n",
       "5                                                                                                                                                                Überdurchschnittliche Einsatzbereitschaft   \n",
       "6                                                                                     HomeIhre Karriere bei LeasePlanStellenangeboteSachbearbeiter/in Vertriebskoordination Händlerbetreuung LeasePlan SME   \n",
       "7                                                                                                                                                                 Steuerkenntnisse sind sehr wünschenswert   \n",
       "8                                                                                                                                                                 Kreativität und schnelle Auffassungsgabe   \n",
       "9                                                                                                                      budget/forecast/prior year/prior month) and provide explanations for the management   \n",
       "\n",
       "  label  num_label  \n",
       "0  none          0  \n",
       "1  none          0  \n",
       "2  tech          1  \n",
       "3  soft          2  \n",
       "4  soft          2  \n",
       "5  soft          2  \n",
       "6  none          0  \n",
       "7  tech          1  \n",
       "8  soft          2  \n",
       "9  none          0  "
      ]
     },
     "execution_count": 5,
     "metadata": {},
     "output_type": "execute_result"
    }
   ],
   "source": [
    "df.head(10)"
   ]
  },
  {
   "cell_type": "markdown",
   "metadata": {},
   "source": [
    "## Data Exploration"
   ]
  },
  {
   "cell_type": "markdown",
   "metadata": {},
   "source": [
    "#### Class distribution\n",
    "\n",
    "I'm gonna look for the class distribution to get a sense of any imbalances in the data"
   ]
  },
  {
   "cell_type": "code",
   "execution_count": 6,
   "metadata": {},
   "outputs": [
    {
     "data": {
      "text/plain": [
       "Text(0, 0.5, 'frequency')"
      ]
     },
     "execution_count": 6,
     "metadata": {},
     "output_type": "execute_result"
    },
    {
     "data": {
      "image/png": "[encoded data removed]",
      "text/plain": [
       "<Figure size 1440x576 with 1 Axes>"
      ]
     },
     "metadata": {
      "needs_background": "light"
     },
     "output_type": "display_data"
    }
   ],
   "source": [
    "class_distribution = df['label'].hist(bins=15)\n",
    "class_distribution.set_xlabel(\"classes\")\n",
    "class_distribution.set_ylabel(\"frequency\")"
   ]
  },
  {
   "cell_type": "markdown",
   "metadata": {},
   "source": [
    "I probably won't use **over-** or **undersampling** because the classes are reasonably balanced. \n",
    "\n",
    "<h1><center>$\\frac{set_{smallest}}{set_{largest}} \\approx 0.6$</center></h1>"
   ]
  },
  {
   "cell_type": "markdown",
   "metadata": {},
   "source": [
    "#### Senctence length\n",
    "\n",
    "I'm gonna look for the average sentence length to get a feel for the dimentionality of the data and the feature extraction down the line. How many data points have a sentence length below [10, 20, 30]? Are there outliers? This would be important to know if I would use padding."
   ]
  },
  {
   "cell_type": "code",
   "execution_count": 7,
   "metadata": {},
   "outputs": [],
   "source": [
    "#approximate since a seperation by space doesn't always apply\n",
    "approx_len = lambda sentence: len(sentence.split())\n",
    "df['sentence_length'] = df['text'].apply(approx_len)"
   ]
  },
  {
   "cell_type": "code",
   "execution_count": 8,
   "metadata": {},
   "outputs": [
    {
     "data": {
      "text/plain": [
       "Text(0, 0.5, 'frequency')"
      ]
     },
     "execution_count": 8,
     "metadata": {},
     "output_type": "execute_result"
    },
    {
     "data": {
      "image/png": "[encoded data removed]",
      "text/plain": [
       "<Figure size 1440x576 with 1 Axes>"
      ]
     },
     "metadata": {
      "needs_background": "light"
     },
     "output_type": "display_data"
    }
   ],
   "source": [
    "sentence_length = df['sentence_length'].hist(bins=50)\n",
    "sentence_length.set_xlabel(\"sentence_length\")\n",
    "sentence_length.set_ylabel(\"frequency\")"
   ]
  },
  {
   "cell_type": "markdown",
   "metadata": {},
   "source": [
    "## 1.  Feature extraction"
   ]
  },
  {
   "cell_type": "markdown",
   "metadata": {},
   "source": [
    "Which problems could occure?\n",
    "* German: Umlauts, compound words\n",
    "* In general: numeric characters, special characters, stopwords"
   ]
  },
  {
   "cell_type": "markdown",
   "metadata": {},
   "source": [
    "### Defining stopwords\n",
    "\n",
    "First we define our stopwords for our dataset. In this case we use a german corpus by NLTK. In this case we have to manuelly replace all umlauts, so that they will match the allready processed tokens later."
   ]
  },
  {
   "cell_type": "code",
   "execution_count": 10,
   "metadata": {},
   "outputs": [],
   "source": [
    "def replace_umlauts(s):\n",
    "    for old, new in [('ü','u'), ('ö','o'), ('ä','a')]:\n",
    "        s = s.replace(old, new)\n",
    "    return s"
   ]
  },
  {
   "cell_type": "code",
   "execution_count": 9,
   "metadata": {},
   "outputs": [],
   "source": [
    "from nltk.corpus import stopwords\n",
    "german_stop_words = stopwords.words('german')\n",
    "german_stop_words = [replace_umlauts(word) for word in german_stop_words]"
   ]
  },
  {
   "cell_type": "markdown",
   "metadata": {},
   "source": [
    "### Preprocessing\n",
    "\n",
    "Here I tried to lemmatize and preprocess the tokens, since some of the sentence contain enumerations of qualifications etc.. It turned out, that this preprocessing didn't have a positive effect on the metrics."
   ]
  },
  {
   "cell_type": "code",
   "execution_count": 41,
   "metadata": {},
   "outputs": [],
   "source": [
    "'''nlp = spacy.load('de', disable=[\"tagger\", \"parser\",\"ner\"])\n",
    "\n",
    "def preprocessing(tok):\n",
    "    tok = tok.lower()\n",
    "    \n",
    "    doc = nlp(tok)\n",
    "    if len(doc) == 1:\n",
    "        tok = doc[0].lemma_\n",
    "        \n",
    "    tok = replace_umlauts(tok)\n",
    "        \n",
    "    return tok\n",
    "    \n",
    "preprocessing('Fähigkeiten')'''"
   ]
  },
  {
   "cell_type": "markdown",
   "metadata": {},
   "source": [
    "### Text representation\n",
    "\n",
    "All other issues will resolve in this chapter, since I will use a text representation method which contains several handy tools. I could remove my own preprocessing and fully integrate it in this optimized version of a freature extractor. "
   ]
  },
  {
   "cell_type": "markdown",
   "metadata": {},
   "source": [
    "#### Train-Test Split"
   ]
  },
  {
   "cell_type": "markdown",
   "metadata": {},
   "source": [
    "I split the data beforehand to ensure the extractor only rely on the trainig data"
   ]
  },
  {
   "cell_type": "code",
   "execution_count": 97,
   "metadata": {},
   "outputs": [],
   "source": [
    "from sklearn.model_selection import train_test_split\n",
    "X_train, X_test, y_train, y_test = train_test_split(df['text'],\n",
    "                                                    df['num_label'],\n",
    "                                                    test_size=0.2)"
   ]
  },
  {
   "cell_type": "markdown",
   "metadata": {},
   "source": [
    "#### Tf-IDF\n",
    "\n",
    "This is my key-decision on how to preprocess and represent my text data. Here i chose to use a fixed length, no padding and order invariante method. This is because the important information is contained in keyword and -phrases regardless of the order. For this reason I will use this more sophisticated BagOfWords-approach. I will comment on each component to make my choice more clear."
   ]
  },
  {
   "cell_type": "code",
   "execution_count": 98,
   "metadata": {},
   "outputs": [],
   "source": [
    "tfidf = TfidfVectorizer(analyzer=\"word\", #this is obvious, but the important instance of this classifier are words\n",
    "                        strip_accents='ascii', #this step comes in handy to stip all umlauts automtically\n",
    "                        lowercase=True, #beeing case sensitive would only increase our dimention without adding information \n",
    "                        stop_words=german_stop_words, #here i incorporate my stopwords\n",
    "                        min_df = 2, #I want a great understanding of the wordbase without including tokens only appearing once like company names (entities) etc.\n",
    "                        smooth_idf=True, #prevents zero divisions\n",
    "                        encoding='utf-8', #my preferred encoding\n",
    "                        ngram_range=(1,2), #this is really important! here i choose to build up the vocab with uni- and bigrams, since many keyphrases consist of one or more words  \n",
    "                        max_features=10000, #this cap gives me a reasonably dimentionality by still cutting out the lower end of words and phrases which would lead overfitting behaviour \n",
    "                        token_pattern = r'[a-z]+' #here I chose to drop any non alphabetic tokens, since they wont hold any reasonable information on this task\n",
    "                        )"
   ]
  },
  {
   "cell_type": "code",
   "execution_count": 99,
   "metadata": {},
   "outputs": [],
   "source": [
    "X_train = tfidf.fit_transform(X_train)"
   ]
  },
  {
   "cell_type": "code",
   "execution_count": 113,
   "metadata": {},
   "outputs": [],
   "source": [
    "assert(len(tfidf.get_feature_names()) == 10000)"
   ]
  },
  {
   "cell_type": "markdown",
   "metadata": {},
   "source": [
    "This is my final fearture extration which is trained on the training data"
   ]
  },
  {
   "cell_type": "code",
   "execution_count": 101,
   "metadata": {},
   "outputs": [],
   "source": [
    "def feature_extraction(X):\n",
    "    return tfidf.transform(X)"
   ]
  },
  {
   "cell_type": "markdown",
   "metadata": {},
   "source": [
    "## 2. Training"
   ]
  },
  {
   "cell_type": "markdown",
   "metadata": {},
   "source": [
    "I chose to use a Naive Bayes (NB) classifier because it is the most straight foreward way for a BagOfWords representation. This is because we can assume statstical independence of the idividual features since we have a positoin invariant representation. Which makes training fast and easy and keeps the models complexitiy reasonable."
   ]
  },
  {
   "cell_type": "code",
   "execution_count": 102,
   "metadata": {},
   "outputs": [],
   "source": [
    "clf = MultinomialNB(fit_prior=True).fit(X_train, y_train)"
   ]
  },
  {
   "cell_type": "markdown",
   "metadata": {},
   "source": [
    "I did not implement another model like Logistic Regression or Neuraln Networks since i did not expect any performance improvments. I kept it simple."
   ]
  },
  {
   "cell_type": "code",
   "execution_count": 103,
   "metadata": {},
   "outputs": [],
   "source": [
    "def predict(X):\n",
    "    return clf.predict(X)"
   ]
  },
  {
   "cell_type": "markdown",
   "metadata": {},
   "source": [
    "## 3. + 4. Evaluation"
   ]
  },
  {
   "cell_type": "markdown",
   "metadata": {},
   "source": [
    "In this section I will explore my models performance by looking at the confusion matrix and the deducible metrics. The confusion matrix will give me a good feel for the classification of my model. I can check for imbalances and overfitting. The accuracy is my main indicator of performanced and backed up by Precision and Recall for each individual class (There shoudn't be outliers)."
   ]
  },
  {
   "cell_type": "code",
   "execution_count": 104,
   "metadata": {},
   "outputs": [],
   "source": [
    "def evaluate(X_test, y_test):\n",
    "    \n",
    "    X_test = feature_extraction(X_test)\n",
    "    y_pred = predict(X_test)\n",
    "    \n",
    "    conf = confusion_matrix(y_test, y_pred)\n",
    "    \n",
    "    #percentage of texts that were categorized with the correct tag\n",
    "    accuracy = conf.trace()/conf.sum()\n",
    "    #percentage of examples the classifier got right out of the total number of examples that it predicted for a given tag\n",
    "    precision =  np.diagonal(conf) / conf.sum(axis=0)\n",
    "    #percentage of examples the classifier predicted for a given tag out of the total number of examples it should have predicted for that given tag\n",
    "    recall = np.diagonal(conf) / conf.sum(axis=1) \n",
    "    \n",
    "    print('------------------------\\n' +\n",
    "          f'Accuracy: {accuracy}\\n' +\n",
    "          f'Precision: {precision}\\n' +\n",
    "          f'Recall: {recall}\\n' +\n",
    "          '------------------------')    \n",
    "    \n",
    "    fig, ax = plt.subplots(figsize=(10,8))\n",
    "    sns.heatmap(conf, annot=True, fmt='d',\n",
    "                xticklabels=p_id.keys(),\n",
    "                yticklabels=p_id.keys())\n",
    "    plt.ylabel('True Label')\n",
    "    plt.xlabel('Predicted Label')\n",
    "    plt.show()\n",
    "    \n",
    "    def get_false_classified(true, pred):\n",
    "        wrong_indices = [i for i, cls in enumerate(y_pred) if\n",
    "                         cls == p_id[pred] and y_test.iloc[i] == p_id[true]]\n",
    "        df_indices = y_test.index[wrong_indices]\n",
    "        false_classified = df[['text', 'label']].loc[df_indices]\n",
    "        return false_classified\n",
    "    \n",
    "    \n",
    "    wrong_tech_soft = get_false_classified('tech', 'soft')\n",
    "    wrong_soft_tech = get_false_classified('soft', 'tech')\n",
    "    \n",
    "    return wrong_tech_soft, wrong_soft_tech"
   ]
  },
  {
   "cell_type": "markdown",
   "metadata": {},
   "source": [
    "### Confusion Matrix\n",
    "\n",
    "The results look very nice, since we archived a great accuracy of 95% of the training data lieing on the diagonal. The wrongly classified ecamples are spread evenly and can be explained by random varaince. But to get a better understanding of what's going on I will always look at a few missclassified examples."
   ]
  },
  {
   "cell_type": "code",
   "execution_count": 105,
   "metadata": {},
   "outputs": [
    {
     "name": "stdout",
     "output_type": "stream",
     "text": [
      "------------------------\n",
      "Accuracy: 0.953170731707317\n",
      "Precision: [0.96501129 0.94621027 0.94304636]\n",
      "Recall: [0.96501129 0.90632319 0.9660787 ]\n",
      "------------------------\n"
     ]
    },
    {
     "data": {
      "image/png": "[encoded data removed]",
      "text/plain": [
       "<Figure size 720x576 with 2 Axes>"
      ]
     },
     "metadata": {
      "needs_background": "light"
     },
     "output_type": "display_data"
    }
   ],
   "source": [
    "wrong_tech_soft, wrong_soft_tech  = evaluate(X_test, y_test)"
   ]
  },
  {
   "cell_type": "markdown",
   "metadata": {},
   "source": [
    "### Looking at false classified"
   ]
  },
  {
   "cell_type": "code",
   "execution_count": 106,
   "metadata": {},
   "outputs": [
    {
     "data": {
      "text/html": [
       "<div>\n",
       "<style scoped>\n",
       "    .dataframe tbody tr th:only-of-type {\n",
       "        vertical-align: middle;\n",
       "    }\n",
       "\n",
       "    .dataframe tbody tr th {\n",
       "        vertical-align: top;\n",
       "    }\n",
       "\n",
       "    .dataframe thead th {\n",
       "        text-align: right;\n",
       "    }\n",
       "</style>\n",
       "<table border=\"1\" class=\"dataframe\">\n",
       "  <thead>\n",
       "    <tr style=\"text-align: right;\">\n",
       "      <th></th>\n",
       "      <th>text</th>\n",
       "      <th>label</th>\n",
       "    </tr>\n",
       "  </thead>\n",
       "  <tbody>\n",
       "    <tr>\n",
       "      <th>3188</th>\n",
       "      <td>Die obligatorischen MS Office Kenntnisse sowie sehr gute kommunikative Fähigkeiten runden Ihr Profil ab.</td>\n",
       "      <td>tech</td>\n",
       "    </tr>\n",
       "    <tr>\n",
       "      <th>110</th>\n",
       "      <td>Spaß und Kompetenz in der Konzeptentwicklung, der Strukturierung von Prozessen und der Verschriftlichung von Texten haben</td>\n",
       "      <td>tech</td>\n",
       "    </tr>\n",
       "    <tr>\n",
       "      <th>1415</th>\n",
       "      <td>gern Verantwortung übernehmen</td>\n",
       "      <td>tech</td>\n",
       "    </tr>\n",
       "    <tr>\n",
       "      <th>1732</th>\n",
       "      <td>Beharrlichkeit in der Verfolgung von Zielen.</td>\n",
       "      <td>tech</td>\n",
       "    </tr>\n",
       "    <tr>\n",
       "      <th>2551</th>\n",
       "      <td>Besitz des Führerscheins der Klasse B sowie die Bereitschaft, einen privaten PKW als dienstlich anerkanntes Fahrzeug einzusetzen</td>\n",
       "      <td>tech</td>\n",
       "    </tr>\n",
       "    <tr>\n",
       "      <th>2887</th>\n",
       "      <td>wertschätzende Einstellung zur Elternarbeit</td>\n",
       "      <td>tech</td>\n",
       "    </tr>\n",
       "    <tr>\n",
       "      <th>7081</th>\n",
       "      <td>Hohe Motivation und Begeisterung, um sich schnell in ein neues Arbeitsgebiet einzuarbeiten</td>\n",
       "      <td>tech</td>\n",
       "    </tr>\n",
       "    <tr>\n",
       "      <th>3669</th>\n",
       "      <td>Kenntnisse in der Gruppenarbeit mit Kindern</td>\n",
       "      <td>tech</td>\n",
       "    </tr>\n",
       "    <tr>\n",
       "      <th>5908</th>\n",
       "      <td>Gute Englischkenntnisse in Wort und Schrift</td>\n",
       "      <td>tech</td>\n",
       "    </tr>\n",
       "    <tr>\n",
       "      <th>8498</th>\n",
       "      <td>Sehr gute Kommunikationsfähigkeit, insbesondere im Bereich der Weitergabe von Wissen.</td>\n",
       "      <td>tech</td>\n",
       "    </tr>\n",
       "    <tr>\n",
       "      <th>3022</th>\n",
       "      <td>Ausgeprägtes Kosten- und Leistungsbewusstsein</td>\n",
       "      <td>tech</td>\n",
       "    </tr>\n",
       "    <tr>\n",
       "      <th>7309</th>\n",
       "      <td>Professionell in der kooperativen Zusammenarbeit mit Betriebsräten</td>\n",
       "      <td>tech</td>\n",
       "    </tr>\n",
       "    <tr>\n",
       "      <th>1240</th>\n",
       "      <td>Begeisterung für Clean Code.</td>\n",
       "      <td>tech</td>\n",
       "    </tr>\n",
       "    <tr>\n",
       "      <th>4061</th>\n",
       "      <td>Hohe Analysefähigkeiten und Qualitätsorientierung</td>\n",
       "      <td>tech</td>\n",
       "    </tr>\n",
       "    <tr>\n",
       "      <th>2684</th>\n",
       "      <td>sicher in der deutschen Rechtschreibung und Grammatik</td>\n",
       "      <td>tech</td>\n",
       "    </tr>\n",
       "  </tbody>\n",
       "</table>\n",
       "</div>"
      ],
      "text/plain": [
       "                                                                                                                                  text  \\\n",
       "3188                          Die obligatorischen MS Office Kenntnisse sowie sehr gute kommunikative Fähigkeiten runden Ihr Profil ab.   \n",
       "110          Spaß und Kompetenz in der Konzeptentwicklung, der Strukturierung von Prozessen und der Verschriftlichung von Texten haben   \n",
       "1415                                                                                                     gern Verantwortung übernehmen   \n",
       "1732                                                                                      Beharrlichkeit in der Verfolgung von Zielen.   \n",
       "2551  Besitz des Führerscheins der Klasse B sowie die Bereitschaft, einen privaten PKW als dienstlich anerkanntes Fahrzeug einzusetzen   \n",
       "2887                                                                                       wertschätzende Einstellung zur Elternarbeit   \n",
       "7081                                        Hohe Motivation und Begeisterung, um sich schnell in ein neues Arbeitsgebiet einzuarbeiten   \n",
       "3669                                                                                       Kenntnisse in der Gruppenarbeit mit Kindern   \n",
       "5908                                                                                       Gute Englischkenntnisse in Wort und Schrift   \n",
       "8498                                             Sehr gute Kommunikationsfähigkeit, insbesondere im Bereich der Weitergabe von Wissen.   \n",
       "3022                                                                                     Ausgeprägtes Kosten- und Leistungsbewusstsein   \n",
       "7309                                                                Professionell in der kooperativen Zusammenarbeit mit Betriebsräten   \n",
       "1240                                                                                                      Begeisterung für Clean Code.   \n",
       "4061                                                                                 Hohe Analysefähigkeiten und Qualitätsorientierung   \n",
       "2684                                                                             sicher in der deutschen Rechtschreibung und Grammatik   \n",
       "\n",
       "     label  \n",
       "3188  tech  \n",
       "110   tech  \n",
       "1415  tech  \n",
       "1732  tech  \n",
       "2551  tech  \n",
       "2887  tech  \n",
       "7081  tech  \n",
       "3669  tech  \n",
       "5908  tech  \n",
       "8498  tech  \n",
       "3022  tech  \n",
       "7309  tech  \n",
       "1240  tech  \n",
       "4061  tech  \n",
       "2684  tech  "
      ]
     },
     "execution_count": 106,
     "metadata": {},
     "output_type": "execute_result"
    }
   ],
   "source": [
    "wrong_tech_soft.head(15)"
   ]
  },
  {
   "cell_type": "code",
   "execution_count": 107,
   "metadata": {},
   "outputs": [
    {
     "data": {
      "text/html": [
       "<div>\n",
       "<style scoped>\n",
       "    .dataframe tbody tr th:only-of-type {\n",
       "        vertical-align: middle;\n",
       "    }\n",
       "\n",
       "    .dataframe tbody tr th {\n",
       "        vertical-align: top;\n",
       "    }\n",
       "\n",
       "    .dataframe thead th {\n",
       "        text-align: right;\n",
       "    }\n",
       "</style>\n",
       "<table border=\"1\" class=\"dataframe\">\n",
       "  <thead>\n",
       "    <tr style=\"text-align: right;\">\n",
       "      <th></th>\n",
       "      <th>text</th>\n",
       "      <th>label</th>\n",
       "    </tr>\n",
       "  </thead>\n",
       "  <tbody>\n",
       "    <tr>\n",
       "      <th>4679</th>\n",
       "      <td>Handwerkliches Geschick</td>\n",
       "      <td>soft</td>\n",
       "    </tr>\n",
       "    <tr>\n",
       "      <th>7032</th>\n",
       "      <td>Gute Kenntnisse in Englisch und/oder Niederländisch sind wünschenswert</td>\n",
       "      <td>soft</td>\n",
       "    </tr>\n",
       "    <tr>\n",
       "      <th>1361</th>\n",
       "      <td>Projektmanagement-Fähigkeiten.</td>\n",
       "      <td>soft</td>\n",
       "    </tr>\n",
       "    <tr>\n",
       "      <th>6464</th>\n",
       "      <td>Interesse an aktuellen und neuen Techniken</td>\n",
       "      <td>soft</td>\n",
       "    </tr>\n",
       "    <tr>\n",
       "      <th>844</th>\n",
       "      <td>Kreativität und Begeisterung für Trends und Themen im digitalen Bereich</td>\n",
       "      <td>soft</td>\n",
       "    </tr>\n",
       "    <tr>\n",
       "      <th>760</th>\n",
       "      <td>sehr gutes Verständnis technischer Probleme und ihrer Zusammenhänge</td>\n",
       "      <td>soft</td>\n",
       "    </tr>\n",
       "    <tr>\n",
       "      <th>2064</th>\n",
       "      <td>Fundierte Kenntnisse in Microsoft Office und SharePoint</td>\n",
       "      <td>soft</td>\n",
       "    </tr>\n",
       "    <tr>\n",
       "      <th>927</th>\n",
       "      <td>Gute Kenntnisse im Projektmanagement</td>\n",
       "      <td>soft</td>\n",
       "    </tr>\n",
       "    <tr>\n",
       "      <th>135</th>\n",
       "      <td>Führerscheine: B (alt: FS3)</td>\n",
       "      <td>soft</td>\n",
       "    </tr>\n",
       "    <tr>\n",
       "      <th>1306</th>\n",
       "      <td>Fundierte Englischkenntnisse.</td>\n",
       "      <td>soft</td>\n",
       "    </tr>\n",
       "  </tbody>\n",
       "</table>\n",
       "</div>"
      ],
      "text/plain": [
       "                                                                         text  \\\n",
       "4679                                                  Handwerkliches Geschick   \n",
       "7032   Gute Kenntnisse in Englisch und/oder Niederländisch sind wünschenswert   \n",
       "1361                                           Projektmanagement-Fähigkeiten.   \n",
       "6464                               Interesse an aktuellen und neuen Techniken   \n",
       "844   Kreativität und Begeisterung für Trends und Themen im digitalen Bereich   \n",
       "760       sehr gutes Verständnis technischer Probleme und ihrer Zusammenhänge   \n",
       "2064                  Fundierte Kenntnisse in Microsoft Office und SharePoint   \n",
       "927                                      Gute Kenntnisse im Projektmanagement   \n",
       "135                                               Führerscheine: B (alt: FS3)   \n",
       "1306                                            Fundierte Englischkenntnisse.   \n",
       "\n",
       "     label  \n",
       "4679  soft  \n",
       "7032  soft  \n",
       "1361  soft  \n",
       "6464  soft  \n",
       "844   soft  \n",
       "760   soft  \n",
       "2064  soft  \n",
       "927   soft  \n",
       "135   soft  \n",
       "1306  soft  "
      ]
     },
     "execution_count": 107,
     "metadata": {},
     "output_type": "execute_result"
    }
   ],
   "source": [
    "wrong_soft_tech.head(15)"
   ]
  },
  {
   "cell_type": "markdown",
   "metadata": {},
   "source": [
    "At this examples we can see that the models confusion is not only by random chance but also by attributes of the data. For example do they contain wrongly annoted data like 'Kenntnisse in der Gruppenarbeit mit Kinder' being labeld as 'tech' and 'Fundierte Kenntnisse in Microsoft Office und SharePoint' labeld as 'soft'. By this examples I do not see a great room for improvment based on this dataset. Nevertheless I would look a bit more into the preprocessing of the data."
   ]
  },
  {
   "cell_type": "markdown",
   "metadata": {},
   "source": [
    "### Further improvements\n",
    "\n",
    "There are a few steps i would talk to further optimize the model:\n",
    "* I would cross validate my hyperparametes\n",
    "* I would try to deal with compound words like '...verständnis'"
   ]
  },
  {
   "cell_type": "markdown",
   "metadata": {},
   "source": [
    "## 5. Saving the model"
   ]
  },
  {
   "cell_type": "code",
   "execution_count": 119,
   "metadata": {},
   "outputs": [],
   "source": [
    "with open('model/classifier','wb') as file:\n",
    "    pickle.dump(clf, file)"
   ]
  },
  {
   "cell_type": "code",
   "execution_count": 120,
   "metadata": {},
   "outputs": [],
   "source": [
    "with open('model/feature_extractor','wb') as file:\n",
    "    pickle.dump(tfidf, file)"
   ]
  }
 ],
 "metadata": {
  "kernelspec": {
   "display_name": "Python [conda env:TextAnalytics] *",
   "language": "python",
   "name": "conda-env-TextAnalytics-py"
  },
  "language_info": {
   "codemirror_mode": {
    "name": "ipython",
    "version": 3
   },
   "file_extension": ".py",
   "mimetype": "text/x-python",
   "name": "python",
   "nbconvert_exporter": "python",
   "pygments_lexer": "ipython3",
   "version": "3.8.0"
  }
 },
 "nbformat": 4,
 "nbformat_minor": 4
}
